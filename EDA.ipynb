{
 "cells": [
  {
   "cell_type": "markdown",
   "metadata": {},
   "source": [
    "![king](https://kingcounty.gov/img/KClogo-horiz-black-lg.gif) \n",
    "# EDA Project - [Housing Market in King County (WA, USA)](https://www.kaggle.com/datasets/harlfoxem/housesalesprediction)"
   ]
  },
  {
   "cell_type": "markdown",
   "metadata": {},
   "source": [
    "---\n",
    "### Imports"
   ]
  },
  {
   "cell_type": "code",
   "execution_count": null,
   "metadata": {},
   "outputs": [],
   "source": [
    "import pandas as pd\n",
    "import geopandas as gpd\n",
    "import numpy as np\n",
    "import matplotlib.pyplot as plt\n",
    "import plotly.express as px\n",
    "import seaborn as sns\n",
    "import osmnx as ox\n",
    "import geojson\n",
    "from keplergl import KeplerGl\n",
    "import warnings\n",
    "warnings.filterwarnings('ignore')"
   ]
  },
  {
   "cell_type": "markdown",
   "metadata": {},
   "source": [
    "---\n",
    "### Data Exploration\n",
    "\n",
    "Create a Pandas Dataframe and get a feel of the data"
   ]
  },
  {
   "cell_type": "code",
   "execution_count": null,
   "metadata": {},
   "outputs": [],
   "source": [
    "df = pd.read_csv('./data/King_County_House_prices_dataset.csv')"
   ]
  },
  {
   "cell_type": "code",
   "execution_count": null,
   "metadata": {},
   "outputs": [],
   "source": [
    "df.info()"
   ]
  },
  {
   "cell_type": "markdown",
   "metadata": {},
   "source": [
    "#### Column Names and descriptions for King County Data Set\n",
    "- **id** - unique id for each house\n",
    "- **date** - date of sale\n",
    "- **price** - is prediction target\n",
    "- **bedrooms** - # of bedrooms\n",
    "- **bathrooms** - # of bathrooms\n",
    "- **sqft_living** - footage of the home\n",
    "- **sqft_lot** - footage of the lot\n",
    "- **floors** - floors (levels) in house\n",
    "- **waterfront** - House which has a view to a waterfront\n",
    "- **view** - An index from 0 to 4 of how good the view of the property was\n",
    "- **condition** - How good the condition is ( Overall )\n",
    "- **grade** - overall grade given to the housing unit, based on King County grading system\n",
    "- **sqft_above** - square footage of house apart from basement\n",
    "- **sqft_basement** - square footage of the basement\n",
    "- **yr_built** - year house was built\n",
    "- **yr_renovated** - year when house was renovated\n",
    "- **zipcode** - zipcode area\n",
    "- **lat** - Latitude coordinate\n",
    "- **long** - Longitude coordinate\n",
    "- **sqft_living15** - The square footage of interior housing living space for the nearest 15 neighbors\n",
    "- **sqft_lot15** - The square footage of the land lots of the nearest 15 neighbors"
   ]
  },
  {
   "cell_type": "code",
   "execution_count": null,
   "metadata": {},
   "outputs": [],
   "source": [
    "# Count the number of NaN in each column\n",
    "nans = pd.DataFrame(df.isnull().sum(),columns=['count'])\n",
    "nans.query('count != 0')"
   ]
  },
  {
   "cell_type": "code",
   "execution_count": null,
   "metadata": {},
   "outputs": [],
   "source": [
    "df.describe().round(1)"
   ]
  },
  {
   "cell_type": "markdown",
   "metadata": {},
   "source": [
    "33 bedrooms seems a lot. Let's investigate further:"
   ]
  },
  {
   "cell_type": "code",
   "execution_count": null,
   "metadata": {},
   "outputs": [],
   "source": [
    "df.query('bedrooms == 33.0')"
   ]
  },
  {
   "cell_type": "markdown",
   "metadata": {},
   "source": [
    "That many bedrooms in a 1620 ft² home? This has to be a typo. Let's drop that entry."
   ]
  },
  {
   "cell_type": "code",
   "execution_count": null,
   "metadata": {},
   "outputs": [],
   "source": [
    "df.drop(15856, axis=0, inplace=True)"
   ]
  },
  {
   "cell_type": "markdown",
   "metadata": {},
   "source": [
    "Let's get a quick correlation overview:"
   ]
  },
  {
   "cell_type": "code",
   "execution_count": null,
   "metadata": {},
   "outputs": [],
   "source": [
    "sns.pairplot(df)"
   ]
  },
  {
   "cell_type": "markdown",
   "metadata": {},
   "source": [
    "Pretty convoluted, so let's try something different:"
   ]
  },
  {
   "cell_type": "code",
   "execution_count": null,
   "metadata": {},
   "outputs": [],
   "source": [
    "plt.figure(figsize=(20, 15))\n",
    "cor_mask = np.triu(df.corr())\n",
    "ax = sns.heatmap(round(df.corr()*100), annot=True, mask=cor_mask, cmap='viridis')"
   ]
  },
  {
   "cell_type": "markdown",
   "metadata": {},
   "source": [
    "Much better but nothing too exciting here. Everything is as you would expect.\n",
    "* 'sqft_living' correlates highly with 'sqft_above' because people don't live in underground bunkers. \n",
    "* 'yr_built' correlates negatively with 'condition'. The older the house, the worse the condition it is in.\n",
    "* Price ('price) increases with the size of the house ('sqft_living') which also means more bathrooms and bedrooms, but not much with the size of the property (sqft_lot).\n",
    "\n",
    "Interestingly it seems that newer houses have more floors. It could be that multi-story buildings are built to accommodate increasing population and limited building space."
   ]
  },
  {
   "cell_type": "markdown",
   "metadata": {},
   "source": [
    "### Research Questions\n",
    "\n",
    "| Question | Hypothesis | Indicators |\n",
    "| -------- | ---------- | --------- |\n",
    "| Q1 Where are the larger properties located?| Larger properties are located outside the city. | zipcode, sqft_lot |\n",
    "| Q2 Are 'nicer' houses more expensive | Yes. |  'condition','grade', 'price' |\n",
    "| Q3 Are bigger houses more expensive? | Yes. | 'price', 'sqft_living' |"
   ]
  },
  {
   "cell_type": "markdown",
   "metadata": {},
   "source": [
    "__Q1) Where are the larger properties located?__\n",
    "\n",
    "For the following step you need to download the [zipcodes geojson file](https://data.amerigeoss.org/dataset/zip-codes-2360f/resource/3aeb8b59-92d9-43a6-b959-28b7ee324866) and place it in the data folder."
   ]
  },
  {
   "cell_type": "code",
   "execution_count": null,
   "metadata": {},
   "outputs": [],
   "source": [
    "# THANKS MALTE!\n",
    "#load geojson with zipcodes\n",
    "with open('./data/zip_codes.geojson') as f:\n",
    "    zipson = geojson.load(f)\n",
    "\n",
    "# adding zipcodes as 'id' for each zipcode area in the geojson, so plotly can link zip code data to appropriate area\n",
    "for i in range(len(zipson['features'])):\n",
    "    zipson['features'][i]['id'] = zipson['features'][i]['properties']['ZIPCODE']\n",
    "\n",
    "# group by zipcode and calculate the mean\n",
    "q1 = df.groupby('zipcode')\n",
    "q1 = q1.mean().reset_index()"
   ]
  },
  {
   "cell_type": "code",
   "execution_count": null,
   "metadata": {},
   "outputs": [],
   "source": [
    "# plot the average plot size by zip code\n",
    "fig = px.choropleth_mapbox(q1, geojson=zipson, locations='zipcode', \n",
    "    color='sqft_lot',\n",
    "    color_continuous_scale='Viridis',\n",
    "    range_color=(3000, 100000),\n",
    "    mapbox_style='carto-positron',\n",
    "    zoom=8,\n",
    "    center={'lat':47.460, 'lon':-122.014},\n",
    "    opacity=0.5,\n",
    "    hover_data=['sqft_lot', 'zipcode'],\n",
    "    labels={'sqft_lot':'avg lot size[ft²]'}\n",
    ")\n",
    "fig.update_layout(margin={'r':0,'t':0,'l':0,'b':0,})\n",
    "fig.show()"
   ]
  },
  {
   "cell_type": "markdown",
   "metadata": {},
   "source": [
    "The map above shows that the further you are from the Seattle city center the average lot size increases. This could be due to agricultural use of the land and the sales date from this area includes some farms. Some zipcode areas are missing. Possibly because no houses were sold in those areas in the time frame the data was collected. Interesting is the big average lot size on the island of Vashon west of Seattle."
   ]
  },
  {
   "cell_type": "markdown",
   "metadata": {},
   "source": [
    "__Q2) Are 'nicer' houses more expensive?__"
   ]
  },
  {
   "cell_type": "code",
   "execution_count": null,
   "metadata": {},
   "outputs": [],
   "source": [
    "# group data by condition and calculate the average\n",
    "q2=df.groupby(['condition']).mean()['price'].reset_index()\n",
    "\n",
    "plt.figure(figsize=(20,10))\n",
    "sns.barplot(x='condition', y='price', data=q2)\n",
    "plt.ylabel('Avg. price in $')\n",
    "plt.xlabel('Condition (higher is better)')\n",
    "plt.title('Average price in relation to condition')\n",
    "plt.show();\n"
   ]
  },
  {
   "cell_type": "markdown",
   "metadata": {},
   "source": [
    "There is a clear division in the average sale prices of houses with a condition of 1-2 and 3-5. The differences within those two groups are less pronounced."
   ]
  },
  {
   "cell_type": "code",
   "execution_count": null,
   "metadata": {},
   "outputs": [],
   "source": [
    "sns.set_theme(style=\"darkgrid\")\n",
    "plt.figure(figsize=(20,10))\n",
    "sns.boxplot(x=df.grade, y=df.price)\n",
    "plt.ylabel('Price in M$')\n",
    "plt.xlabel('Grade')\n",
    "plt.title('Price in relation to grade')\n",
    "plt.show();"
   ]
  },
  {
   "cell_type": "markdown",
   "metadata": {},
   "source": [
    "The boxplot above shows that the price increases with the grade of the house. The number of outliers in the grade range from 7 to 10 could mean, that a lot of sellers sold their house above market price. This may indicate a boom in the region, caused by big tech companies like Amazon and Google."
   ]
  },
  {
   "cell_type": "markdown",
   "metadata": {},
   "source": [
    "__Q3) Are bigger houses more expensive?__"
   ]
  },
  {
   "cell_type": "code",
   "execution_count": null,
   "metadata": {},
   "outputs": [],
   "source": [
    "plt.figure(figsize=(20,10))\n",
    "sns.regplot(data=df, x='sqft_living', y='price', line_kws={'color': 'red'})\n",
    "plt.ylabel('Price in M$')\n",
    "plt.xlabel('Living space in ft²')\n",
    "plt.title('Price in relation living space')\n",
    "plt.show();"
   ]
  },
  {
   "cell_type": "markdown",
   "metadata": {},
   "source": [
    "Not really an interesting question.\n",
    "It's clear as day that houses with larger living space are more expensive"
   ]
  },
  {
   "cell_type": "markdown",
   "metadata": {},
   "source": [
    "---\n",
    "### Client\n",
    "\n",
    "<img src=\"./images/scrooge.png\" alt=\"drawing\" width=\"200\"/>\n",
    "\n",
    "Jabob Philips' mansion requirements:\n",
    "* Unlimited Budget\n",
    "* 4+ bathrooms or smaller house nearby\n",
    "* big lot (tennis court & pool), golf\n",
    "* historic\n",
    "* no waterfront view"
   ]
  },
  {
   "cell_type": "markdown",
   "metadata": {},
   "source": [
    "### Workflow:\n",
    "\n",
    "1. Drop dataframe columns that are not needed for our analysis.\n",
    "\n",
    "2. Filter by 'hard' requirements:\n",
    "* filter by waterfront\n",
    "* filter by bathrooms or small house nearby\n",
    "\n",
    "3. Filter by 'soft' requirements\n",
    "* filter by lot size so the it at least fits a tennis court and a pool\n",
    "* make sure that the prospective house are up to the client's standard\n",
    "    \n",
    "4. Get a list of golf courses that are in the area\n",
    "\n",
    "5. Get a list of historical buildings\n",
    "\n",
    "6. Plot a map the get the final candidates to present to the client"
   ]
  },
  {
   "cell_type": "markdown",
   "metadata": {},
   "source": [
    "### 1) Drop dataframe columns that are not needed for our analysis."
   ]
  },
  {
   "cell_type": "markdown",
   "metadata": {},
   "source": [
    "Get a smaller dataframe to work with, with only the columns that are of interest:\n",
    "\n",
    "| Requirement | Columns of interest |\n",
    "|---|---|\n",
    "|no waterfront| 'waterfront'|\n",
    "|4+ bathrooms|'bathrooms', 'sqft_living15'|\n",
    "|big lot|'sqft_lot' |\n",
    "|historic| 'lat', 'lon', ('yr_built')|\n",
    "|Unlimited Budget|'price' (not really, but..)|\n",
    "| Luxurious | 'grade', 'condition' |\n",
    "\n",
    "as well as general columns like 'id'\n"
   ]
  },
  {
   "cell_type": "code",
   "execution_count": null,
   "metadata": {},
   "outputs": [],
   "source": [
    "# Create dataframe with columns of interest\n",
    "small_df = df[['id','price','waterfront','bathrooms', 'bedrooms', 'sqft_living', 'sqft_lot','sqft_living15','yr_built','lat','long', 'grade', 'condition']]"
   ]
  },
  {
   "cell_type": "markdown",
   "metadata": {},
   "source": [
    "We saw before that the 'waterfront' column has some NaN. Let's investigate further:"
   ]
  },
  {
   "cell_type": "code",
   "execution_count": null,
   "metadata": {},
   "outputs": [],
   "source": [
    "small_df['waterfront'].unique()"
   ]
  },
  {
   "cell_type": "markdown",
   "metadata": {},
   "source": [
    "Alright. Seems like a binary column. Makes sense. Either the property has a waterfront view or not. But some entries are missing :(\n",
    "\n",
    "Let's table that for later."
   ]
  },
  {
   "cell_type": "markdown",
   "metadata": {},
   "source": [
    "### 2) Filter by 'hard' requirements:"
   ]
  },
  {
   "cell_type": "code",
   "execution_count": null,
   "metadata": {},
   "outputs": [],
   "source": [
    "# only properties that do not have a waterfront view or NaN\n",
    "f_water_df = small_df.query('waterfront == 0.0 or waterfront.isnull()')\n",
    "f_water_df"
   ]
  },
  {
   "cell_type": "markdown",
   "metadata": {},
   "source": [
    "What constitutes a smaller house? "
   ]
  },
  {
   "cell_type": "code",
   "execution_count": null,
   "metadata": {},
   "outputs": [],
   "source": [
    "# smaller than the mean?\n",
    "print(df['sqft_living15'].mean().round(1))\n",
    "# lower 20%?\n",
    "print(df['sqft_living15'].quantile(q=0.2))"
   ]
  },
  {
   "cell_type": "markdown",
   "metadata": {},
   "source": [
    "Since we wouldn't categorize houses that are technically smaller than the mean but still close to it as small, we use the lower 20%."
   ]
  },
  {
   "cell_type": "code",
   "execution_count": null,
   "metadata": {},
   "outputs": [],
   "source": [
    "f_bath = f_water_df.query('bathrooms >= 4.00 or sqft_living15 < 1420').sort_values('sqft_living')\n",
    "f_bath"
   ]
  },
  {
   "cell_type": "markdown",
   "metadata": {},
   "source": [
    "### 3) Filter by 'soft' requirements"
   ]
  },
  {
   "cell_type": "markdown",
   "metadata": {},
   "source": [
    "Filter by lot size:\n",
    "Our client requires space for at least a double tennis court (__2,808 ft²__) and a swimming pool (__~2000 ft²__).\n",
    "Plus a decently sized garden this amounts to roughly __25,000f t²__. Another way of making sure our client's needs are fulfilled is by checking the top 5% of properties on the market."
   ]
  },
  {
   "cell_type": "code",
   "execution_count": null,
   "metadata": {},
   "outputs": [],
   "source": [
    "# top 5% of houses by lot size\n",
    "df['sqft_lot'].quantile(q=0.95)"
   ]
  },
  {
   "cell_type": "markdown",
   "metadata": {},
   "source": [
    "This should be enough be enough space to multiple tennis courts and a olympic size pool plus a hedge maze.\n"
   ]
  },
  {
   "cell_type": "code",
   "execution_count": null,
   "metadata": {},
   "outputs": [],
   "source": [
    "f_sqft = f_bath.query('sqft_lot > 43308.75').sort_values('price', ascending=False)\n",
    "f_sqft"
   ]
  },
  {
   "cell_type": "markdown",
   "metadata": {},
   "source": [
    "Since the client is a man of refined taste, we don't want to present him with a sub par house. Let's get rid of all the low quality houses that are left by using a new category called 'luxury'. It is the product of 'condition' and 'grade'. The luxury score should at least be a __40__ (condition 4 * grade 10). Explanation [here](https://info.kingcounty.gov/assessor/esales/Glossary.aspx?.type=r#g).\n",
    "\n",
    "([Backup link for grade](./images/grade.png) and [backup link for condition](./images/condition.png))"
   ]
  },
  {
   "cell_type": "code",
   "execution_count": null,
   "metadata": {},
   "outputs": [],
   "source": [
    "f_sqft.eval('luxury = grade*condition ', inplace=True)\n",
    "f_luxury = f_sqft.query('luxury >= 40').sort_values('luxury', ascending=False)\n",
    "f_luxury\n"
   ]
  },
  {
   "cell_type": "markdown",
   "metadata": {},
   "source": [
    "And here we have our shortlist of candidates! And we have no entries in the waterfront column that are 'NaN'. Lucky :four_leaf_clover: !"
   ]
  },
  {
   "cell_type": "markdown",
   "metadata": {},
   "source": [
    "### 4) Get a list of golf courses that are in the area\n",
    "\n",
    "_Data Source: OpenStreetMaps_ and [Tagfinder](https://tagfinder.herokuapp.com/)"
   ]
  },
  {
   "cell_type": "code",
   "execution_count": null,
   "metadata": {},
   "outputs": [],
   "source": [
    "# find features using tagfinder. golf courses are under the category 'leisure'\n",
    "tags = {'leisure': 'golf_course'}\n",
    "# download all golf courses in a area around Seattle and save them in a geopandas dataframe\n",
    "gdf_golf = ox.geometries.geometries_from_bbox(48.0761, 47.011, -120.788, -123.0344, tags)\n",
    "gdf_golf_slim = gdf_golf[['name', 'geometry']].reset_index() #throw away everything except name and location\n",
    "gdf_golf_poly =  gdf_golf_slim[gdf_golf_slim.geometry.type==\"Polygon\"]"
   ]
  },
  {
   "cell_type": "markdown",
   "metadata": {},
   "source": [
    "### 5) Get a list of historical buildings\n",
    "\n",
    "_Data Source: National Register of Historic Places [in Seattle](https://en.wikipedia.org/wiki/National_Register_of_Historic_Places_listings_in_Seattle) and [around Seattle](https://en.wikipedia.org/wiki/National_Register_of_Historic_Places_listings_in_King_County,_Washington)\n",
    "retrieved from Wikipeda_"
   ]
  },
  {
   "cell_type": "code",
   "execution_count": null,
   "metadata": {},
   "outputs": [],
   "source": [
    "# download .kml files using the links above, read both files into geopandas dataframes and concat\n",
    "gpd.io.file.fiona.drvsupport.supported_drivers['KML'] = 'rw'\n",
    "gdf1 = gpd.read_file('./data/king_county1.kml', driver='KML')\n",
    "gdf2 = gpd.read_file('./data/king_county2.kml', driver='KML')\n",
    "historic_gdf = pd.concat([gdf1, gdf2])"
   ]
  },
  {
   "cell_type": "markdown",
   "metadata": {},
   "source": [
    "It might be useful to convert our list of candidates into geopandas dateframe for plotting later:"
   ]
  },
  {
   "cell_type": "code",
   "execution_count": null,
   "metadata": {},
   "outputs": [],
   "source": [
    "# make geodataframe\n",
    "gdf_luxury = gpd.GeoDataFrame(f_luxury, geometry=gpd.points_from_xy(x=f_luxury.long, y=f_luxury.lat))\n",
    "gdf_luxury"
   ]
  },
  {
   "cell_type": "markdown",
   "metadata": {},
   "source": [
    "### 6) Plot a map the get the final candidates to present to the client"
   ]
  },
  {
   "cell_type": "code",
   "execution_count": null,
   "metadata": {},
   "outputs": [],
   "source": [
    "# convert geodataframe to geojson and write to file. already done. files are in the data folder.\n",
    "#gdf_golf_slim.to_file('./data/golf_courses.json', driver=\"GeoJSON\")\n",
    "#historic_gdf.to_file('./data/historic_houses.json', driver=\"GeoJSON\")\n",
    "#gdf_luxury.to_file('./data/valid_properties.json', driver=\"GeoJSON\")"
   ]
  },
  {
   "cell_type": "code",
   "execution_count": null,
   "metadata": {},
   "outputs": [],
   "source": [
    "# Initialize map\n",
    "map = KeplerGl(height=800)\n",
    "\n",
    "#open .json files and add to map\n",
    "with open('./data/golf_courses.json', 'r') as f:\n",
    "    golf_courses = f.read()\n",
    "with open('./data/historic_houses.json', 'r') as f:\n",
    "    historic_houses = f.read()\n",
    "with open('./data/valid_properties.json', 'r') as f:\n",
    "    valid_properties = f.read()\n",
    "\n",
    "map.add_data(data=golf_courses, name='golf_courses')\n",
    "map.add_data(data=historic_houses, name='historic_houses')\n",
    "map.add_data(data=valid_properties, name='valid_properties')\n",
    "\n",
    "#display map\n",
    "#%run ./data/hex_config.py\n",
    "map"
   ]
  },
  {
   "cell_type": "code",
   "execution_count": null,
   "metadata": {},
   "outputs": [],
   "source": [
    "# save config to file\n",
    "# with open('hex_config.py', 'w') as f:\n",
    "#    f.write('config = {}'.format(map.config))"
   ]
  },
  {
   "cell_type": "markdown",
   "metadata": {},
   "source": [
    "Unfortunately, none of the properties for sale are classified as historic.\n",
    "\n",
    "Since Seattle has a surprising amount of golf courses. All of the properties are close to one of them!\n",
    "\n",
    "Upon inspecting the list of valid properties with satellite imagery we are able to recommend to following three houses to our client:"
   ]
  },
  {
   "cell_type": "code",
   "execution_count": null,
   "metadata": {},
   "outputs": [],
   "source": [
    "gdf_luxury.query('id == 3425069083 or id == 3304700130 or id == 4054500390').sort_values('sqft_lot', ascending=False)"
   ]
  },
  {
   "cell_type": "markdown",
   "metadata": {},
   "source": [
    "---"
   ]
  },
  {
   "cell_type": "markdown",
   "metadata": {},
   "source": [
    "### Conclusion"
   ]
  },
  {
   "cell_type": "markdown",
   "metadata": {},
   "source": [
    "Based on the requirements set by the client we are able to present him with three very good options for purchase. Although none of them are officially recognized as historic, they are all close to a golf course, have four or more bathrooms, no direct view of a natural body of water, and a large enough lot to build a pool and a tennis court if not already present.\n"
   ]
  },
  {
   "cell_type": "markdown",
   "metadata": {},
   "source": [
    "First Choice!\n",
    "* Pool and Tennis court already included! \n",
    "* Gigantic lot size with 284011 ft² and a living area of 4225 ft².\n",
    "\n",
    "![firstchoice](./images/3425069083.png)"
   ]
  },
  {
   "cell_type": "markdown",
   "metadata": {},
   "source": [
    "Second Choice!\n",
    "\n",
    "* Tennis Court included!\n",
    "* Very close to the Seattle Golf Club!\n",
    "* Built in 1927, so almost 100 years old. Might be considered historic by some!\n",
    "\n",
    "\n",
    "![secondchoice](./images/3304700130.png)"
   ]
  },
  {
   "cell_type": "markdown",
   "metadata": {},
   "source": [
    "Third Choice!\n",
    "\n",
    "* Largest living area of the three with massive 5310 ft².\n",
    "* Enough space to build the pool and/or tennis court of your dreams!\n",
    "\n",
    "![thirdchoice](./images/4054500390.png)"
   ]
  },
  {
   "cell_type": "markdown",
   "metadata": {},
   "source": []
  }
 ],
 "metadata": {
  "interpreter": {
   "hash": "08c85954ada196a41d327a3c3eff5e7337f3f91c678ec1d2617751bd2db42a1e"
  },
  "kernelspec": {
   "display_name": "Python 3.9.8 ('.venv': venv)",
   "language": "python",
   "name": "python3"
  },
  "language_info": {
   "codemirror_mode": {
    "name": "ipython",
    "version": 3
   },
   "file_extension": ".py",
   "mimetype": "text/x-python",
   "name": "python",
   "nbconvert_exporter": "python",
   "pygments_lexer": "ipython3",
   "version": "3.9.8"
  },
  "orig_nbformat": 4
 },
 "nbformat": 4,
 "nbformat_minor": 2
}
